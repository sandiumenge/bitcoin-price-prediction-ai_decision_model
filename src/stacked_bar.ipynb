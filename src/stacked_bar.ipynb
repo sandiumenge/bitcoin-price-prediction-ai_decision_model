{
 "cells": [
  {
   "cell_type": "code",
   "execution_count": 1,
   "metadata": {},
   "outputs": [],
   "source": [
    "import pandas as pd\n",
    "import matplotlib.pyplot as plt\n",
    "import matplotlib.dates as mdates"
   ]
  },
  {
   "cell_type": "code",
   "execution_count": 57,
   "metadata": {},
   "outputs": [
    {
     "data": {
      "text/html": [
       "<div>\n",
       "<style scoped>\n",
       "    .dataframe tbody tr th:only-of-type {\n",
       "        vertical-align: middle;\n",
       "    }\n",
       "\n",
       "    .dataframe tbody tr th {\n",
       "        vertical-align: top;\n",
       "    }\n",
       "\n",
       "    .dataframe thead th {\n",
       "        text-align: right;\n",
       "    }\n",
       "</style>\n",
       "<table border=\"1\" class=\"dataframe\">\n",
       "  <thead>\n",
       "    <tr style=\"text-align: right;\">\n",
       "      <th></th>\n",
       "      <th>date</th>\n",
       "      <th>count</th>\n",
       "      <th>file</th>\n",
       "    </tr>\n",
       "  </thead>\n",
       "  <tbody>\n",
       "    <tr>\n",
       "      <th>0</th>\n",
       "      <td>2007-04-01</td>\n",
       "      <td>1</td>\n",
       "      <td>Datasets/archive (1)/tweets.csv</td>\n",
       "    </tr>\n",
       "    <tr>\n",
       "      <th>1</th>\n",
       "      <td>2009-01-01</td>\n",
       "      <td>4</td>\n",
       "      <td>Datasets/archive (1)/tweets.csv</td>\n",
       "    </tr>\n",
       "    <tr>\n",
       "      <th>2</th>\n",
       "      <td>2009-02-01</td>\n",
       "      <td>1</td>\n",
       "      <td>Datasets/archive (1)/tweets.csv</td>\n",
       "    </tr>\n",
       "    <tr>\n",
       "      <th>3</th>\n",
       "      <td>2009-06-01</td>\n",
       "      <td>5</td>\n",
       "      <td>Datasets/archive (1)/tweets.csv</td>\n",
       "    </tr>\n",
       "    <tr>\n",
       "      <th>4</th>\n",
       "      <td>2009-09-01</td>\n",
       "      <td>1</td>\n",
       "      <td>Datasets/archive (1)/tweets.csv</td>\n",
       "    </tr>\n",
       "    <tr>\n",
       "      <th>...</th>\n",
       "      <td>...</td>\n",
       "      <td>...</td>\n",
       "      <td>...</td>\n",
       "    </tr>\n",
       "    <tr>\n",
       "      <th>245</th>\n",
       "      <td>2023-02-01</td>\n",
       "      <td>5384</td>\n",
       "      <td>Datasets/archive (7)/tweets.csv</td>\n",
       "    </tr>\n",
       "    <tr>\n",
       "      <th>246</th>\n",
       "      <td>2023-03-01</td>\n",
       "      <td>6162</td>\n",
       "      <td>Datasets/archive (7)/tweets.csv</td>\n",
       "    </tr>\n",
       "    <tr>\n",
       "      <th>247</th>\n",
       "      <td>2023-04-01</td>\n",
       "      <td>5298</td>\n",
       "      <td>Datasets/archive (7)/tweets.csv</td>\n",
       "    </tr>\n",
       "    <tr>\n",
       "      <th>248</th>\n",
       "      <td>2023-05-01</td>\n",
       "      <td>5496</td>\n",
       "      <td>Datasets/archive (7)/tweets.csv</td>\n",
       "    </tr>\n",
       "    <tr>\n",
       "      <th>249</th>\n",
       "      <td>2023-06-01</td>\n",
       "      <td>3198</td>\n",
       "      <td>Datasets/archive (7)/tweets.csv</td>\n",
       "    </tr>\n",
       "  </tbody>\n",
       "</table>\n",
       "<p>309 rows × 3 columns</p>\n",
       "</div>"
      ],
      "text/plain": [
       "          date  count                             file\n",
       "0   2007-04-01      1  Datasets/archive (1)/tweets.csv\n",
       "1   2009-01-01      4  Datasets/archive (1)/tweets.csv\n",
       "2   2009-02-01      1  Datasets/archive (1)/tweets.csv\n",
       "3   2009-06-01      5  Datasets/archive (1)/tweets.csv\n",
       "4   2009-09-01      1  Datasets/archive (1)/tweets.csv\n",
       "..         ...    ...                              ...\n",
       "245 2023-02-01   5384  Datasets/archive (7)/tweets.csv\n",
       "246 2023-03-01   6162  Datasets/archive (7)/tweets.csv\n",
       "247 2023-04-01   5298  Datasets/archive (7)/tweets.csv\n",
       "248 2023-05-01   5496  Datasets/archive (7)/tweets.csv\n",
       "249 2023-06-01   3198  Datasets/archive (7)/tweets.csv\n",
       "\n",
       "[309 rows x 3 columns]"
      ]
     },
     "execution_count": 57,
     "metadata": {},
     "output_type": "execute_result"
    }
   ],
   "source": [
    "# Load the CSV file\n",
    "df = pd.read_csv(\"tweets_dates.csv\")\n",
    "\n",
    "df.sort_values('date', inplace=True)\n",
    "# Convert the date column to `datetime` in Pandas\n",
    "df['date'] = pd.to_datetime(df['date'])\n",
    "df"
   ]
  },
  {
   "cell_type": "code",
   "execution_count": 58,
   "metadata": {},
   "outputs": [
    {
     "name": "stdout",
     "output_type": "stream",
     "text": [
      "Total count: 76178808\n"
     ]
    }
   ],
   "source": [
    "total_count = df['count'].sum()\n",
    "print(\"Total count:\", total_count)"
   ]
  },
  {
   "cell_type": "code",
   "execution_count": 59,
   "metadata": {},
   "outputs": [],
   "source": [
    "dataset_map = {\n",
    "    'Datasets/archive (1)/tweets.csv': 'Dataset 1',\n",
    "    'Datasets/archive (10)/bitcoin-tweets-2021.csv': 'Dataset 2',\n",
    "    'Datasets/archive (10)/bitcoin-tweets-2022.csv': 'Dataset 2',\n",
    "    'Datasets/archive (3)/bitcoin_tweets.csv': 'Dataset 3',\n",
    "    'Datasets/archive/Bitcoin_tweets.csv': 'Dataset 4',\n",
    "    'Datasets/archive (6)/df_Final.csv': 'Dataset 5',\n",
    "    'Datasets/archive (7)/tweets.csv': 'Dataset 6',\n",
    "    'Datasets/archive (8)/BitcoinTweets.csv': 'Dataset 7',\n",
    "    'Datasets/archive (2)/cleanprep.csv': 'Dataset 8',\n",
    "    'Datasets/archive (14)/unbalanced_twitter_btc_big.csv': 'Dataset 9',\n",
    "    'Datasets/archive (5)/mbsa.csv': 'Dataset 10'\n",
    "}\n"
   ]
  },
  {
   "cell_type": "code",
   "execution_count": 60,
   "metadata": {},
   "outputs": [],
   "source": [
    "df['file'] = df['file'].map(dataset_map)\n",
    "df = df[df['file'] != 'Dataset 10']\n",
    "# Group by date and dataset name and sum the counts\n",
    "df_grouped = df.groupby(['date', 'file'], as_index=False)['count'].sum()"
   ]
  },
  {
   "cell_type": "code",
   "execution_count": 61,
   "metadata": {},
   "outputs": [
    {
     "data": {
      "text/plain": [
       "array(['Dataset 1', 'Dataset 7', 'Dataset 5', 'Dataset 8', 'Dataset 2',\n",
       "       'Dataset 4', 'Dataset 9', 'Dataset 6', 'Dataset 3'], dtype=object)"
      ]
     },
     "execution_count": 61,
     "metadata": {},
     "output_type": "execute_result"
    }
   ],
   "source": [
    "df_grouped.file.unique()"
   ]
  },
  {
   "cell_type": "code",
   "execution_count": 65,
   "metadata": {},
   "outputs": [],
   "source": [
    "# Pivot the data to prepare for plotting\n",
    "pivot_df = df_grouped.pivot(index='date', columns='file', values='count').fillna(0)"
   ]
  },
  {
   "cell_type": "code",
   "execution_count": 70,
   "metadata": {},
   "outputs": [
    {
     "data": {
      "image/png": "[encoded data removed]",
      "text/plain": [
       "<Figure size 1000x600 with 1 Axes>"
      ]
     },
     "metadata": {},
     "output_type": "display_data"
    }
   ],
   "source": [
    "import matplotlib.pyplot as plt\n",
    "import matplotlib.dates as mdates\n",
    "import re\n",
    "\n",
    "# Extract sorted file order based on number\n",
    "def extract_number(label):\n",
    "    match = re.search(r'\\d+', label)\n",
    "    return int(match.group()) if match else float('inf')\n",
    "\n",
    "# Get sorted file tags\n",
    "sorted_file_tags = sorted(pivot_df.columns, key=extract_number)\n",
    "\n",
    "# Plot\n",
    "fig, ax = plt.subplots(figsize=(10, 6))\n",
    "bottom = None\n",
    "\n",
    "# Plot in sorted order\n",
    "for file_tag in sorted_file_tags:\n",
    "    ax.bar(\n",
    "        pivot_df.index,\n",
    "        pivot_df[file_tag],\n",
    "        label=file_tag,\n",
    "        bottom=bottom,\n",
    "        width=20\n",
    "    )\n",
    "    bottom = pivot_df[file_tag] if bottom is None else bottom + pivot_df[file_tag]\n",
    "\n",
    "# Format x-axis\n",
    "ax.xaxis.set_major_formatter(mdates.DateFormatter(\"%Y-%m\"))\n",
    "ax.set_title('Total Tweets Each Month', fontsize=14)\n",
    "ax.set_xlabel('Date (Month)', fontsize=12)\n",
    "ax.set_ylabel('Count (Millions)', fontsize=12)\n",
    "\n",
    "# Add sorted legend\n",
    "handles, labels = ax.get_legend_handles_labels()\n",
    "sorted_handles_labels = sorted(zip(labels, handles), key=lambda x: extract_number(x[0]))\n",
    "sorted_labels, sorted_handles = zip(*sorted_handles_labels)\n",
    "ax.legend(sorted_handles, sorted_labels, title='File')\n",
    "\n",
    "plt.xticks(rotation=45)\n",
    "plt.tight_layout()\n",
    "plt.show()\n"
   ]
  },
  {
   "cell_type": "code",
   "execution_count": null,
   "metadata": {},
   "outputs": [],
   "source": [
    "# Plot the data with Matplotlib\n",
    "fig, ax = plt.subplots(figsize=(10, 6))\n",
    "ax.bar(pivot_df[\"month\"], pivot_df[\"count\"], width=20, color='skyblue')\n",
    "# Format the x-axis with Matplotlib's mdates\n",
    "# ax.xaxis.set_major_locator(mdates.MonthLocator(interval=2))  # Show every 2 months\n",
    "ax.xaxis.set_major_formatter(mdates.DateFormatter(\"%Y-%m\"))  # Format as 'YYYY-MM'\n",
    "\n",
    "plt.xlabel(\"Date\")\n",
    "plt.ylabel(\"Occurrences\")\n",
    "plt.yscale(\"log\")\n",
    "plt.title(\"Occurrences for Each Date\")\n",
    "plt.xticks(rotation=45)\n",
    "\n",
    "# I should do something first to find january (and I'm lazy now and it isn't so relevant)\n",
    "# plt.set_xticklabels([date[:4] for date in pandas_df[\"date\"][::12]])  # Format as the first 4 characters\n",
    "\n",
    "plt.tight_layout()\n",
    "plt.show()"
   ]
  }
 ],
 "metadata": {
  "kernelspec": {
   "display_name": "Python 3",
   "language": "python",
   "name": "python3"
  },
  "language_info": {
   "codemirror_mode": {
    "name": "ipython",
    "version": 3
   },
   "file_extension": ".py",
   "mimetype": "text/x-python",
   "name": "python",
   "nbconvert_exporter": "python",
   "pygments_lexer": "ipython3",
   "version": "3.12.6"
  }
 },
 "nbformat": 4,
 "nbformat_minor": 2
}
